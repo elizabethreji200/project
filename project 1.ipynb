{
  "nbformat": 4,
  "nbformat_minor": 0,
  "metadata": {
    "colab": {
      "provenance": []
    },
    "kernelspec": {
      "name": "python3",
      "display_name": "Python 3"
    },
    "language_info": {
      "name": "python"
    }
  },
  "cells": [
    {
      "cell_type": "code",
      "source": [
        "from google.colab import files\n",
        "uploaded = files.upload()\n"
      ],
      "metadata": {
        "colab": {
          "base_uri": "https://localhost:8080/",
          "height": 73
        },
        "id": "LhRxEeC9EQDS",
        "outputId": "85ab2f8c-b29a-4ead-be7a-722b1f7770ea"
      },
      "execution_count": 5,
      "outputs": [
        {
          "output_type": "display_data",
          "data": {
            "text/plain": [
              "<IPython.core.display.HTML object>"
            ],
            "text/html": [
              "\n",
              "     <input type=\"file\" id=\"files-bc006528-aabe-4db2-98cb-283c28f4723c\" name=\"files[]\" multiple disabled\n",
              "        style=\"border:none\" />\n",
              "     <output id=\"result-bc006528-aabe-4db2-98cb-283c28f4723c\">\n",
              "      Upload widget is only available when the cell has been executed in the\n",
              "      current browser session. Please rerun this cell to enable.\n",
              "      </output>\n",
              "      <script>// Copyright 2017 Google LLC\n",
              "//\n",
              "// Licensed under the Apache License, Version 2.0 (the \"License\");\n",
              "// you may not use this file except in compliance with the License.\n",
              "// You may obtain a copy of the License at\n",
              "//\n",
              "//      http://www.apache.org/licenses/LICENSE-2.0\n",
              "//\n",
              "// Unless required by applicable law or agreed to in writing, software\n",
              "// distributed under the License is distributed on an \"AS IS\" BASIS,\n",
              "// WITHOUT WARRANTIES OR CONDITIONS OF ANY KIND, either express or implied.\n",
              "// See the License for the specific language governing permissions and\n",
              "// limitations under the License.\n",
              "\n",
              "/**\n",
              " * @fileoverview Helpers for google.colab Python module.\n",
              " */\n",
              "(function(scope) {\n",
              "function span(text, styleAttributes = {}) {\n",
              "  const element = document.createElement('span');\n",
              "  element.textContent = text;\n",
              "  for (const key of Object.keys(styleAttributes)) {\n",
              "    element.style[key] = styleAttributes[key];\n",
              "  }\n",
              "  return element;\n",
              "}\n",
              "\n",
              "// Max number of bytes which will be uploaded at a time.\n",
              "const MAX_PAYLOAD_SIZE = 100 * 1024;\n",
              "\n",
              "function _uploadFiles(inputId, outputId) {\n",
              "  const steps = uploadFilesStep(inputId, outputId);\n",
              "  const outputElement = document.getElementById(outputId);\n",
              "  // Cache steps on the outputElement to make it available for the next call\n",
              "  // to uploadFilesContinue from Python.\n",
              "  outputElement.steps = steps;\n",
              "\n",
              "  return _uploadFilesContinue(outputId);\n",
              "}\n",
              "\n",
              "// This is roughly an async generator (not supported in the browser yet),\n",
              "// where there are multiple asynchronous steps and the Python side is going\n",
              "// to poll for completion of each step.\n",
              "// This uses a Promise to block the python side on completion of each step,\n",
              "// then passes the result of the previous step as the input to the next step.\n",
              "function _uploadFilesContinue(outputId) {\n",
              "  const outputElement = document.getElementById(outputId);\n",
              "  const steps = outputElement.steps;\n",
              "\n",
              "  const next = steps.next(outputElement.lastPromiseValue);\n",
              "  return Promise.resolve(next.value.promise).then((value) => {\n",
              "    // Cache the last promise value to make it available to the next\n",
              "    // step of the generator.\n",
              "    outputElement.lastPromiseValue = value;\n",
              "    return next.value.response;\n",
              "  });\n",
              "}\n",
              "\n",
              "/**\n",
              " * Generator function which is called between each async step of the upload\n",
              " * process.\n",
              " * @param {string} inputId Element ID of the input file picker element.\n",
              " * @param {string} outputId Element ID of the output display.\n",
              " * @return {!Iterable<!Object>} Iterable of next steps.\n",
              " */\n",
              "function* uploadFilesStep(inputId, outputId) {\n",
              "  const inputElement = document.getElementById(inputId);\n",
              "  inputElement.disabled = false;\n",
              "\n",
              "  const outputElement = document.getElementById(outputId);\n",
              "  outputElement.innerHTML = '';\n",
              "\n",
              "  const pickedPromise = new Promise((resolve) => {\n",
              "    inputElement.addEventListener('change', (e) => {\n",
              "      resolve(e.target.files);\n",
              "    });\n",
              "  });\n",
              "\n",
              "  const cancel = document.createElement('button');\n",
              "  inputElement.parentElement.appendChild(cancel);\n",
              "  cancel.textContent = 'Cancel upload';\n",
              "  const cancelPromise = new Promise((resolve) => {\n",
              "    cancel.onclick = () => {\n",
              "      resolve(null);\n",
              "    };\n",
              "  });\n",
              "\n",
              "  // Wait for the user to pick the files.\n",
              "  const files = yield {\n",
              "    promise: Promise.race([pickedPromise, cancelPromise]),\n",
              "    response: {\n",
              "      action: 'starting',\n",
              "    }\n",
              "  };\n",
              "\n",
              "  cancel.remove();\n",
              "\n",
              "  // Disable the input element since further picks are not allowed.\n",
              "  inputElement.disabled = true;\n",
              "\n",
              "  if (!files) {\n",
              "    return {\n",
              "      response: {\n",
              "        action: 'complete',\n",
              "      }\n",
              "    };\n",
              "  }\n",
              "\n",
              "  for (const file of files) {\n",
              "    const li = document.createElement('li');\n",
              "    li.append(span(file.name, {fontWeight: 'bold'}));\n",
              "    li.append(span(\n",
              "        `(${file.type || 'n/a'}) - ${file.size} bytes, ` +\n",
              "        `last modified: ${\n",
              "            file.lastModifiedDate ? file.lastModifiedDate.toLocaleDateString() :\n",
              "                                    'n/a'} - `));\n",
              "    const percent = span('0% done');\n",
              "    li.appendChild(percent);\n",
              "\n",
              "    outputElement.appendChild(li);\n",
              "\n",
              "    const fileDataPromise = new Promise((resolve) => {\n",
              "      const reader = new FileReader();\n",
              "      reader.onload = (e) => {\n",
              "        resolve(e.target.result);\n",
              "      };\n",
              "      reader.readAsArrayBuffer(file);\n",
              "    });\n",
              "    // Wait for the data to be ready.\n",
              "    let fileData = yield {\n",
              "      promise: fileDataPromise,\n",
              "      response: {\n",
              "        action: 'continue',\n",
              "      }\n",
              "    };\n",
              "\n",
              "    // Use a chunked sending to avoid message size limits. See b/62115660.\n",
              "    let position = 0;\n",
              "    do {\n",
              "      const length = Math.min(fileData.byteLength - position, MAX_PAYLOAD_SIZE);\n",
              "      const chunk = new Uint8Array(fileData, position, length);\n",
              "      position += length;\n",
              "\n",
              "      const base64 = btoa(String.fromCharCode.apply(null, chunk));\n",
              "      yield {\n",
              "        response: {\n",
              "          action: 'append',\n",
              "          file: file.name,\n",
              "          data: base64,\n",
              "        },\n",
              "      };\n",
              "\n",
              "      let percentDone = fileData.byteLength === 0 ?\n",
              "          100 :\n",
              "          Math.round((position / fileData.byteLength) * 100);\n",
              "      percent.textContent = `${percentDone}% done`;\n",
              "\n",
              "    } while (position < fileData.byteLength);\n",
              "  }\n",
              "\n",
              "  // All done.\n",
              "  yield {\n",
              "    response: {\n",
              "      action: 'complete',\n",
              "    }\n",
              "  };\n",
              "}\n",
              "\n",
              "scope.google = scope.google || {};\n",
              "scope.google.colab = scope.google.colab || {};\n",
              "scope.google.colab._files = {\n",
              "  _uploadFiles,\n",
              "  _uploadFilesContinue,\n",
              "};\n",
              "})(self);\n",
              "</script> "
            ]
          },
          "metadata": {}
        },
        {
          "output_type": "stream",
          "name": "stdout",
          "text": [
            "Saving Retail_Transaction_Dataset.csv to Retail_Transaction_Dataset.csv\n"
          ]
        }
      ]
    },
    {
      "cell_type": "code",
      "source": [
        "import pandas as pd\n",
        "\n",
        "# Load dataset\n",
        "df = pd.read_csv(\"Retail_Transaction_Dataset.csv\")\n",
        "\n",
        "# Convert TransactionDate to datetime\n",
        "df['TransactionDate'] = pd.to_datetime(df['TransactionDate'], errors='coerce')\n",
        "\n",
        "# Handle missing values\n",
        "df.dropna(inplace=True)\n",
        "\n",
        "# Check dataset summary\n",
        "print(df.info())\n",
        "print(df.describe())\n"
      ],
      "metadata": {
        "colab": {
          "base_uri": "https://localhost:8080/"
        },
        "id": "Upx9pEoLEe-R",
        "outputId": "ff25c41f-c67d-4282-ff37-d61840d929dd"
      },
      "execution_count": 6,
      "outputs": [
        {
          "output_type": "stream",
          "name": "stdout",
          "text": [
            "<class 'pandas.core.frame.DataFrame'>\n",
            "RangeIndex: 100000 entries, 0 to 99999\n",
            "Data columns (total 10 columns):\n",
            " #   Column              Non-Null Count   Dtype         \n",
            "---  ------              --------------   -----         \n",
            " 0   CustomerID          100000 non-null  int64         \n",
            " 1   ProductID           100000 non-null  object        \n",
            " 2   Quantity            100000 non-null  int64         \n",
            " 3   Price               100000 non-null  float64       \n",
            " 4   TransactionDate     100000 non-null  datetime64[ns]\n",
            " 5   PaymentMethod       100000 non-null  object        \n",
            " 6   StoreLocation       100000 non-null  object        \n",
            " 7   ProductCategory     100000 non-null  object        \n",
            " 8   DiscountApplied(%)  100000 non-null  float64       \n",
            " 9   TotalAmount         100000 non-null  float64       \n",
            "dtypes: datetime64[ns](1), float64(3), int64(2), object(4)\n",
            "memory usage: 7.6+ MB\n",
            "None\n",
            "          CustomerID       Quantity          Price  \\\n",
            "count  100000.000000  100000.000000  100000.000000   \n",
            "mean   500463.982180       5.009290      55.067344   \n",
            "min        14.000000       1.000000      10.000430   \n",
            "25%    250693.750000       3.000000      32.549474   \n",
            "50%    499679.000000       5.000000      55.116789   \n",
            "75%    751104.750000       7.000000      77.456763   \n",
            "max    999997.000000       9.000000      99.999284   \n",
            "std    288460.917524       2.579808      25.971567   \n",
            "\n",
            "                     TransactionDate  DiscountApplied(%)    TotalAmount  \n",
            "count                         100000       100000.000000  100000.000000  \n",
            "mean   2023-10-29 15:40:05.471399936           10.020155     248.334955  \n",
            "min              2023-04-29 22:27:00            0.000046       8.274825  \n",
            "25%              2023-07-30 06:45:15            5.001013      95.163418  \n",
            "50%              2023-10-30 05:12:30           10.030353     200.368393  \n",
            "75%              2024-01-29 05:44:00           15.018367     362.009980  \n",
            "max              2024-04-28 22:22:00           19.999585     896.141242  \n",
            "std                              NaN            5.779534     184.554792  \n"
          ]
        }
      ]
    },
    {
      "cell_type": "code",
      "source": [
        "# Assume Cost Price is 70% of Price\n",
        "df['EstimatedCost'] = df['Price'] * 0.70\n",
        "\n",
        "# Estimated Revenue per unit = Price - Cost\n",
        "df['EstimatedProfitPerUnit'] = df['Price'] - df['EstimatedCost']\n",
        "\n",
        "# Total Estimated Profit\n",
        "df['EstimatedProfit'] = df['EstimatedProfitPerUnit'] * df['Quantity']\n"
      ],
      "metadata": {
        "id": "_3LNM74IEuc7"
      },
      "execution_count": 7,
      "outputs": []
    },
    {
      "cell_type": "code",
      "source": [
        "import sqlite3\n",
        "\n",
        "# Create SQLite DB in memory or file\n",
        "conn = sqlite3.connect(\"retail.db\")\n",
        "\n",
        "# Save your DataFrame to a SQL table\n",
        "df.to_sql(\"retail_data\", conn, if_exists=\"replace\", index=False)\n",
        "\n",
        "# Example SQL query\n",
        "query = \"\"\"\n",
        "SELECT ProductCategory, SUM(TotalAmount) AS TotalSales\n",
        "FROM retail_data\n",
        "GROUP BY ProductCategory\n",
        "\"\"\"\n",
        "result = pd.read_sql(query, conn)\n",
        "print(result)\n"
      ],
      "metadata": {
        "colab": {
          "base_uri": "https://localhost:8080/"
        },
        "id": "okc9HJxkFOzE",
        "outputId": "a54d2466-3f97-4306-e1fd-4c3910e1fd7d"
      },
      "execution_count": 10,
      "outputs": [
        {
          "output_type": "stream",
          "name": "stdout",
          "text": [
            "  ProductCategory    TotalSales\n",
            "0           Books  6.257837e+06\n",
            "1        Clothing  6.205502e+06\n",
            "2     Electronics  6.196735e+06\n",
            "3      Home Decor  6.173421e+06\n"
          ]
        }
      ]
    },
    {
      "cell_type": "code",
      "source": [
        "query = \"\"\"\n",
        "SELECT\n",
        "  ProductCategory,\n",
        "  SUM(TotalAmount) AS TotalSales,\n",
        "  SUM(EstimatedProfit) AS TotalProfit,\n",
        "  ROUND(SUM(EstimatedProfit) * 100.0 / SUM(TotalAmount), 2) AS ProfitMargin\n",
        "FROM retail_data\n",
        "GROUP BY ProductCategory\n",
        "ORDER BY ProfitMargin ASC;\n",
        "\"\"\"\n",
        "\n",
        "result = pd.read_sql(query, conn)\n",
        "print(result)\n"
      ],
      "metadata": {
        "colab": {
          "base_uri": "https://localhost:8080/"
        },
        "id": "H_4-ZOqoGYeJ",
        "outputId": "c5b0bac3-0a7a-45fa-8c6c-8c40301a8e07"
      },
      "execution_count": 12,
      "outputs": [
        {
          "output_type": "stream",
          "name": "stdout",
          "text": [
            "  ProductCategory    TotalSales   TotalProfit  ProfitMargin\n",
            "0     Electronics  6.196735e+06  2.064804e+06         33.32\n",
            "1           Books  6.257837e+06  2.086543e+06         33.34\n",
            "2        Clothing  6.205502e+06  2.069137e+06         33.34\n",
            "3      Home Decor  6.173421e+06  2.058556e+06         33.35\n"
          ]
        }
      ]
    },
    {
      "cell_type": "code",
      "source": [
        "query =\"\"\"\n",
        "SELECT\n",
        "  strftime('%Y-%m', TransactionDate) AS Month,\n",
        "  ProductCategory,\n",
        "  SUM(TotalAmount) AS MonthlySales\n",
        "FROM retail_data\n",
        "GROUP BY Month, ProductCategory\n",
        "ORDER BY Month;\n",
        "\"\"\"\n",
        "result=pd.read_sql(query,conn)\n",
        "print(result)"
      ],
      "metadata": {
        "colab": {
          "base_uri": "https://localhost:8080/"
        },
        "id": "neQSEuS-Glvu",
        "outputId": "ab5db4dc-1046-4748-8c11-b76a7199f0cf"
      },
      "execution_count": 13,
      "outputs": [
        {
          "output_type": "stream",
          "name": "stdout",
          "text": [
            "      Month ProductCategory   MonthlySales\n",
            "0   2023-04           Books   17717.504483\n",
            "1   2023-04        Clothing   14806.915405\n",
            "2   2023-04     Electronics   15771.333430\n",
            "3   2023-04      Home Decor   12545.034536\n",
            "4   2023-05           Books  529892.544300\n",
            "5   2023-05        Clothing  522438.714397\n",
            "6   2023-05     Electronics  535326.863055\n",
            "7   2023-05      Home Decor  511917.979083\n",
            "8   2023-06           Books  526911.648142\n",
            "9   2023-06        Clothing  516732.627192\n",
            "10  2023-06     Electronics  512140.051570\n",
            "11  2023-06      Home Decor  510580.496411\n",
            "12  2023-07           Books  546430.914235\n",
            "13  2023-07        Clothing  521163.701023\n",
            "14  2023-07     Electronics  519402.099385\n",
            "15  2023-07      Home Decor  545553.803106\n",
            "16  2023-08           Books  544896.224773\n",
            "17  2023-08        Clothing  542699.666700\n",
            "18  2023-08     Electronics  521367.592568\n",
            "19  2023-08      Home Decor  500389.162005\n",
            "20  2023-09           Books  503236.398162\n",
            "21  2023-09        Clothing  517822.839342\n",
            "22  2023-09     Electronics  515059.324496\n",
            "23  2023-09      Home Decor  514216.039015\n",
            "24  2023-10           Books  502534.957396\n",
            "25  2023-10        Clothing  497973.509132\n",
            "26  2023-10     Electronics  546847.759608\n",
            "27  2023-10      Home Decor  502094.471980\n",
            "28  2023-11           Books  517424.886845\n",
            "29  2023-11        Clothing  496786.522028\n",
            "30  2023-11     Electronics  527089.203220\n",
            "31  2023-11      Home Decor  509976.685040\n",
            "32  2023-12           Books  539985.378388\n",
            "33  2023-12        Clothing  538515.700377\n",
            "34  2023-12     Electronics  519491.889244\n",
            "35  2023-12      Home Decor  527658.097672\n",
            "36  2024-01           Books  523816.994852\n",
            "37  2024-01        Clothing  526465.220203\n",
            "38  2024-01     Electronics  532451.457093\n",
            "39  2024-01      Home Decor  545611.604793\n",
            "40  2024-02           Books  484880.321838\n",
            "41  2024-02        Clothing  505551.590268\n",
            "42  2024-02     Electronics  487694.093662\n",
            "43  2024-02      Home Decor  495028.111459\n",
            "44  2024-03           Books  540194.901264\n",
            "45  2024-03        Clothing  527844.233368\n",
            "46  2024-03     Electronics  521431.044563\n",
            "47  2024-03      Home Decor  518777.862932\n",
            "48  2024-04           Books  479914.368438\n",
            "49  2024-04        Clothing  476701.109322\n",
            "50  2024-04     Electronics  442662.046850\n",
            "51  2024-04      Home Decor  479072.007738\n"
          ]
        }
      ]
    },
    {
      "cell_type": "code",
      "source": [
        "# Approximate Average Inventory Value per product\n",
        "df['AvgInventoryValue'] = df['Price'] * df['Quantity']\n",
        "\n",
        "# Correlation\n",
        "print(df[['AvgInventoryValue', 'EstimatedProfit']].corr())\n",
        "\n",
        "# Visualization\n",
        "import seaborn as sns\n",
        "import matplotlib.pyplot as plt\n",
        "\n",
        "sns.scatterplot(data=df, x='AvgInventoryValue', y='EstimatedProfit')\n",
        "plt.title(\"Inventory Value vs Estimated Profit\")\n",
        "plt.show()\n"
      ],
      "metadata": {
        "colab": {
          "base_uri": "https://localhost:8080/",
          "height": 524
        },
        "id": "Fn-O1oHsHJDa",
        "outputId": "a2ab0073-e1b9-460b-e429-3ddd565f77c3"
      },
      "execution_count": 14,
      "outputs": [
        {
          "output_type": "stream",
          "name": "stdout",
          "text": [
            "                   AvgInventoryValue  EstimatedProfit\n",
            "AvgInventoryValue                1.0              1.0\n",
            "EstimatedProfit                  1.0              1.0\n"
          ]
        },
        {
          "output_type": "display_data",
          "data": {
            "text/plain": [
              "<Figure size 640x480 with 1 Axes>"
            ],
            "image/png": "[encoded data removed]"
          },
          "metadata": {}
        }
      ]
    },
    {
      "cell_type": "code",
      "source": [
        "print(df.columns)\n"
      ],
      "metadata": {
        "colab": {
          "base_uri": "https://localhost:8080/"
        },
        "id": "zNVhdcF2NAcC",
        "outputId": "470d4f2d-42df-4852-f8d9-ebc09ead90c1"
      },
      "execution_count": 16,
      "outputs": [
        {
          "output_type": "stream",
          "name": "stdout",
          "text": [
            "Index(['CustomerID', 'ProductID', 'Quantity', 'Price', 'TransactionDate',\n",
            "       'PaymentMethod', 'StoreLocation', 'ProductCategory',\n",
            "       'DiscountApplied(%)', 'TotalAmount', 'EstimatedCost',\n",
            "       'EstimatedProfitPerUnit', 'EstimatedProfit', 'AvgInventoryValue'],\n",
            "      dtype='object')\n"
          ]
        }
      ]
    },
    {
      "cell_type": "code",
      "source": [
        "df['Profit_Margin'] = df['EstimatedProfit'].astype(float) / df['TotalAmount'].astype(float)\n",
        "df['TransactionDate'] = pd.to_datetime(df['TransactionDate'])\n",
        "\n",
        "# Create Season column\n",
        "df['Season'] = df['TransactionDate'].dt.month % 12 // 3 + 1\n",
        "season_map = {1: 'Winter', 2: 'Spring', 3: 'Summer', 4: 'Fall'}\n",
        "df['Season'] = df['Season'].map(season_map)\n",
        "\n",
        "# Export cleaned file\n",
        "df.to_csv('Cleaned_Retail_Data.csv', index=False)\n",
        "\n",
        "from google.colab import files\n",
        "files.download('Cleaned_Retail_Data.csv')\n",
        "\n"
      ],
      "metadata": {
        "colab": {
          "base_uri": "https://localhost:8080/",
          "height": 17
        },
        "id": "b_iH4pFcNUxk",
        "outputId": "7384145a-3bdb-4612-9751-ad10db70b4f4"
      },
      "execution_count": 18,
      "outputs": [
        {
          "output_type": "display_data",
          "data": {
            "text/plain": [
              "<IPython.core.display.Javascript object>"
            ],
            "application/javascript": [
              "\n",
              "    async function download(id, filename, size) {\n",
              "      if (!google.colab.kernel.accessAllowed) {\n",
              "        return;\n",
              "      }\n",
              "      const div = document.createElement('div');\n",
              "      const label = document.createElement('label');\n",
              "      label.textContent = `Downloading \"${filename}\": `;\n",
              "      div.appendChild(label);\n",
              "      const progress = document.createElement('progress');\n",
              "      progress.max = size;\n",
              "      div.appendChild(progress);\n",
              "      document.body.appendChild(div);\n",
              "\n",
              "      const buffers = [];\n",
              "      let downloaded = 0;\n",
              "\n",
              "      const channel = await google.colab.kernel.comms.open(id);\n",
              "      // Send a message to notify the kernel that we're ready.\n",
              "      channel.send({})\n",
              "\n",
              "      for await (const message of channel.messages) {\n",
              "        // Send a message to notify the kernel that we're ready.\n",
              "        channel.send({})\n",
              "        if (message.buffers) {\n",
              "          for (const buffer of message.buffers) {\n",
              "            buffers.push(buffer);\n",
              "            downloaded += buffer.byteLength;\n",
              "            progress.value = downloaded;\n",
              "          }\n",
              "        }\n",
              "      }\n",
              "      const blob = new Blob(buffers, {type: 'application/binary'});\n",
              "      const a = document.createElement('a');\n",
              "      a.href = window.URL.createObjectURL(blob);\n",
              "      a.download = filename;\n",
              "      div.appendChild(a);\n",
              "      a.click();\n",
              "      div.remove();\n",
              "    }\n",
              "  "
            ]
          },
          "metadata": {}
        },
        {
          "output_type": "display_data",
          "data": {
            "text/plain": [
              "<IPython.core.display.Javascript object>"
            ],
            "application/javascript": [
              "download(\"download_429609a6-abe7-499b-ae41-fed17e5bfd79\", \"Cleaned_Retail_Data.csv\", 22026493)"
            ]
          },
          "metadata": {}
        }
      ]
    }
  ]
}